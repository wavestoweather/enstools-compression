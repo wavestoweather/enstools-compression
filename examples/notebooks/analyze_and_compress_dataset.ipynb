{
 "cells": [
  {
   "cell_type": "markdown",
   "id": "2b61cda9-cd2d-4487-b656-93374fa406d6",
   "metadata": {
    "pycharm": {
     "name": "#%% md\n"
    },
    "tags": []
   },
   "source": [
    "# Analyze and compress a Dataset\n",
    "\n",
    "An example on how to use the analyzer to analyze a **dataset** and use the results to store it in a compressed file"
   ]
  },
  {
   "cell_type": "markdown",
   "id": "bc1750af-27da-4ec1-a9a4-9b9646532a6f",
   "metadata": {
    "pycharm": {
     "name": "#%% md\n"
    },
    "tags": []
   },
   "source": [
    "### Imports"
   ]
  },
  {
   "cell_type": "code",
   "execution_count": null,
   "id": "d00551a0-599d-4362-b0dd-9861f4919c11",
   "metadata": {
    "pycharm": {
     "name": "#%%\n"
    },
    "tags": []
   },
   "outputs": [],
   "source": [
    "import xarray as xr\n",
    "import sys\n",
    "from pathlib import Path\n",
    "from enstools.compression.analyzer.analyzer import analyze_dataset"
   ]
  },
  {
   "cell_type": "markdown",
   "id": "ce6fd1e9-8e01-425e-9f47-dc86d35b502e",
   "metadata": {
    "pycharm": {
     "name": "#%% md\n"
    },
    "tags": []
   },
   "source": [
    "### Download some data"
   ]
  },
  {
   "cell_type": "code",
   "execution_count": null,
   "id": "9aff74be-8f44-40f1-966b-6c23a33f748f",
   "metadata": {
    "pycharm": {
     "name": "#%%\n"
    },
    "tags": []
   },
   "outputs": [],
   "source": [
    "dataset_name = \"air_temperature\"\n",
    "dataset = xr.tutorial.open_dataset(dataset_name)\n",
    "dataset"
   ]
  },
  {
   "cell_type": "markdown",
   "id": "bbe7a315-6d3a-45d2-99e8-489d3349cde8",
   "metadata": {
    "pycharm": {
     "name": "#%% md\n"
    },
    "tags": []
   },
   "source": [
    "### Analyze dataset using default constrains"
   ]
  },
  {
   "cell_type": "code",
   "execution_count": null,
   "id": "c41eaaa5-d83d-469c-9708-6ad3ab07680d",
   "metadata": {
    "pycharm": {
     "name": "#%%\n"
    }
   },
   "outputs": [],
   "source": [
    "encoding, metrics = analyze_dataset(dataset)"
   ]
  },
  {
   "cell_type": "markdown",
   "id": "55ab9652-e49f-4319-aa3a-9000d646a958",
   "metadata": {
    "pycharm": {
     "name": "#%% md\n"
    },
    "tags": []
   },
   "source": [
    "### Analyze dataset using custom constrains"
   ]
  },
  {
   "cell_type": "code",
   "execution_count": null,
   "id": "f075f00d-40bf-4c9d-92ff-445453f39c97",
   "metadata": {
    "pycharm": {
     "name": "#%%\n"
    }
   },
   "outputs": [],
   "source": [
    "encoding, metrics = analyze_dataset(dataset,\n",
    "                          constrains=\"correlation_I:3,ssim_I:1\",)"
   ]
  },
  {
   "cell_type": "code",
   "execution_count": null,
   "id": "7a0582f2-7bc5-4efd-856d-dc37402127ab",
   "metadata": {
    "pycharm": {
     "name": "#%%\n"
    }
   },
   "outputs": [],
   "source": [
    "encoding"
   ]
  },
  {
   "cell_type": "markdown",
   "id": "8f6dd18c-1385-4108-8add-fad34ee13d90",
   "metadata": {},
   "source": [
    "### Save the file using the encoding found in the analysis."
   ]
  },
  {
   "cell_type": "code",
   "execution_count": null,
   "id": "b3ef138f-788d-4a27-9340-31c17d052606",
   "metadata": {},
   "outputs": [],
   "source": [
    "from enstools.io import write"
   ]
  },
  {
   "cell_type": "code",
   "execution_count": null,
   "id": "a022c4ef-e697-42c1-a73e-86c3769635ba",
   "metadata": {},
   "outputs": [],
   "source": [
    "# Define a path for the temporary file\n",
    "file_path = Path(\"tmp.nc\")"
   ]
  },
  {
   "cell_type": "code",
   "execution_count": null,
   "id": "0e8f6b3c-2af9-47ea-a644-1f85718d0972",
   "metadata": {},
   "outputs": [],
   "source": [
    "write(dataset, file_path, compression=encoding)"
   ]
  },
  {
   "cell_type": "code",
   "execution_count": null,
   "id": "35925c92-fbcb-4249-8f8b-b9dc53be9f2d",
   "metadata": {},
   "outputs": [],
   "source": [
    "if file_path.exists():\n",
    "    file_path.unlink()"
   ]
  }
 ],
 "metadata": {
  "kernelspec": {
   "display_name": "enstools-compression-py3.9",
   "language": "python",
   "name": "enstools-compression-py3.9"
  },
  "language_info": {
   "codemirror_mode": {
    "name": "ipython",
    "version": 3
   },
   "file_extension": ".py",
   "mimetype": "text/x-python",
   "name": "python",
   "nbconvert_exporter": "python",
   "pygments_lexer": "ipython3",
   "version": "3.9.7"
  }
 },
 "nbformat": 4,
 "nbformat_minor": 5
}