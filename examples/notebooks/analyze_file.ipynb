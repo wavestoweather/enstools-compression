{
 "cells": [
  {
   "cell_type": "markdown",
   "id": "2b61cda9-cd2d-4487-b656-93374fa406d6",
   "metadata": {
    "pycharm": {
     "name": "#%% md\n"
    },
    "tags": []
   },
   "source": [
    "# Analyze File\n",
    "\n",
    "An example on how to use the analyzer to analyze a **file**."
   ]
  },
  {
   "cell_type": "markdown",
   "id": "bc1750af-27da-4ec1-a9a4-9b9646532a6f",
   "metadata": {
    "pycharm": {
     "name": "#%% md\n"
    },
    "tags": []
   },
   "source": [
    "### Imports\n",
    "For this example we will use only **xarray** and **analyze_dataset** from **enstools-compression**."
   ]
  },
  {
   "cell_type": "code",
   "execution_count": null,
   "id": "d00551a0-599d-4362-b0dd-9861f4919c11",
   "metadata": {
    "pycharm": {
     "name": "#%%\n"
    },
    "tags": []
   },
   "outputs": [],
   "source": [
    "import xarray\n",
    "from pathlib import Path\n",
    "from enstools.compression.analyzer import analyze_files"
   ]
  },
  {
   "cell_type": "markdown",
   "id": "2e7dba47-e88b-46c3-b477-e77e30a369ee",
   "metadata": {},
   "source": [
    "### Path to the destination file\n",
    "We need to provide the path to a file, in this example we will define a path and then write some data in there.\n",
    "Even though here we are using a path object the same could be done with a simple string."
   ]
  },
  {
   "cell_type": "code",
   "execution_count": null,
   "id": "99bb6468-2f03-4ea8-93b1-8d0821f6dbaa",
   "metadata": {},
   "outputs": [],
   "source": [
    "file_path = Path(\"dummy.nc\")"
   ]
  },
  {
   "cell_type": "code",
   "execution_count": null,
   "id": "9aff74be-8f44-40f1-966b-6c23a33f748f",
   "metadata": {
    "pycharm": {
     "name": "#%%\n"
    },
    "tags": []
   },
   "outputs": [],
   "source": [
    "dataset_name = \"air_temperature\"\n",
    "dataset = xarray.tutorial.open_dataset(dataset_name)\n",
    "dataset.to_netcdf(file_path)"
   ]
  },
  {
   "cell_type": "markdown",
   "id": "bbe7a315-6d3a-45d2-99e8-489d3349cde8",
   "metadata": {
    "pycharm": {
     "name": "#%% md\n"
    },
    "tags": []
   },
   "source": [
    "### Analyze file using default constrains\n",
    "Use **analyze** to obtain the compression specification that guarantee quality constrains while maximising compression ratios.\n",
    "In this case if the argument `constrains` is not provided it will use the default ones, which are `\"correlation_I:5,ssim_I:2\"`.\n",
    "\n",
    "\n",
    "> **Note**:\n",
    ">\n",
    "> `correlation_I` is computed like: `-log10(1-pearson_correlation)`. i.e. number of nines of correlation\n",
    ">\n",
    "> `correlation_I:5 == correlation:0.99999`\n",
    ">\n",
    "> Similarly `ssim_I` is computed like: `-log10(1-ssim)`."
   ]
  },
  {
   "cell_type": "code",
   "execution_count": null,
   "id": "c41eaaa5-d83d-469c-9708-6ad3ab07680d",
   "metadata": {
    "pycharm": {
     "name": "#%%\n"
    }
   },
   "outputs": [],
   "source": [
    "encoding, metrics = analyze_files(file_path)"
   ]
  },
  {
   "cell_type": "markdown",
   "id": "b225f853",
   "metadata": {
    "pycharm": {
     "name": "#%% md\n"
    }
   },
   "source": [
    "The function returns two dictionaries, one containing the best encoding and another containing the resulting metrics."
   ]
  },
  {
   "cell_type": "code",
   "execution_count": null,
   "id": "b9196782",
   "metadata": {
    "collapsed": false,
    "jupyter": {
     "outputs_hidden": false
    },
    "pycharm": {
     "name": "#%%\n"
    }
   },
   "outputs": [],
   "source": [
    "encoding"
   ]
  },
  {
   "cell_type": "code",
   "execution_count": null,
   "id": "3c55d96f",
   "metadata": {
    "collapsed": false,
    "jupyter": {
     "outputs_hidden": false
    },
    "pycharm": {
     "name": "#%%\n"
    }
   },
   "outputs": [],
   "source": [
    "metrics"
   ]
  },
  {
   "cell_type": "markdown",
   "id": "55ab9652-e49f-4319-aa3a-9000d646a958",
   "metadata": {
    "pycharm": {
     "name": "#%% md\n"
    },
    "tags": []
   },
   "source": [
    "### Analyze dataset using custom constrains\n",
    "\n",
    "If we want to specify different constrains we can do it like this:"
   ]
  },
  {
   "cell_type": "code",
   "execution_count": null,
   "id": "f075f00d-40bf-4c9d-92ff-445453f39c97",
   "metadata": {
    "pycharm": {
     "name": "#%%\n"
    }
   },
   "outputs": [],
   "source": [
    "encoding, metrics = analyze_files(file_path,constrains=\"correlation_I:3,ssim_I:1\")"
   ]
  },
  {
   "cell_type": "markdown",
   "id": "6229a052-ff92-4afd-9d73-da9c80bdd99a",
   "metadata": {},
   "source": [
    "### Delete temporary file"
   ]
  },
  {
   "cell_type": "code",
   "execution_count": null,
   "id": "84f517c6-d3bb-4591-8c1a-c7ddf796827b",
   "metadata": {},
   "outputs": [],
   "source": [
    "if file_path.exists():\n",
    "    file_path.unlink()"
   ]
  }
 ],
 "metadata": {
  "kernelspec": {
   "display_name": "enstools-compression-py3.9",
   "language": "python",
   "name": "enstools-compression-py3.9"
  },
  "language_info": {
   "codemirror_mode": {
    "name": "ipython",
    "version": 3
   },
   "file_extension": ".py",
   "mimetype": "text/x-python",
   "name": "python",
   "nbconvert_exporter": "python",
   "pygments_lexer": "ipython3",
   "version": "3.9.7"
  }
 },
 "nbformat": 4,
 "nbformat_minor": 5
}
