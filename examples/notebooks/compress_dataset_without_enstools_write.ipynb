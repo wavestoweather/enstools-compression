{
 "cells": [
  {
   "cell_type": "markdown",
   "id": "2b61cda9-cd2d-4487-b656-93374fa406d6",
   "metadata": {
    "pycharm": {
     "name": "#%% md\n"
    },
    "tags": []
   },
   "source": [
    "# Compress a Dataset without using enstools.io.write\n",
    "\n",
    "An example on how to use the analyzer to analyze a **dataset** and use the results to store it in a compressed file"
   ]
  },
  {
   "cell_type": "markdown",
   "id": "bc1750af-27da-4ec1-a9a4-9b9646532a6f",
   "metadata": {
    "pycharm": {
     "name": "#%% md\n"
    },
    "tags": []
   },
   "source": [
    "### Imports"
   ]
  },
  {
   "cell_type": "code",
   "execution_count": null,
   "id": "d00551a0-599d-4362-b0dd-9861f4919c11",
   "metadata": {
    "pycharm": {
     "name": "#%%\n"
    },
    "tags": []
   },
   "outputs": [],
   "source": [
    "import xarray as xr\n",
    "import sys\n",
    "from pathlib import Path\n",
    "from enstools.encoding.api import FilterEncodingForXarray"
   ]
  },
  {
   "cell_type": "markdown",
   "id": "ce6fd1e9-8e01-425e-9f47-dc86d35b502e",
   "metadata": {
    "pycharm": {
     "name": "#%% md\n"
    },
    "tags": []
   },
   "source": [
    "### Download some data"
   ]
  },
  {
   "cell_type": "code",
   "execution_count": null,
   "id": "9aff74be-8f44-40f1-966b-6c23a33f748f",
   "metadata": {
    "pycharm": {
     "name": "#%%\n"
    },
    "tags": []
   },
   "outputs": [],
   "source": [
    "dataset_name = \"air_temperature\"\n",
    "dataset = xr.tutorial.open_dataset(dataset_name)\n",
    "dataset"
   ]
  },
  {
   "cell_type": "markdown",
   "id": "ed6e459d-7009-441a-887b-3f5b0acd583f",
   "metadata": {},
   "source": [
    "### Define the compression specifications using the proper compression string format"
   ]
  },
  {
   "cell_type": "code",
   "execution_count": null,
   "id": "d57c590d-1dae-4286-99ce-1a2592863626",
   "metadata": {},
   "outputs": [],
   "source": [
    "compression='lossy,sz,abs,0.14'"
   ]
  },
  {
   "cell_type": "markdown",
   "id": "8f6dd18c-1385-4108-8add-fad34ee13d90",
   "metadata": {},
   "source": [
    "### Use enstools.encoding to get the proper encodings for xarray."
   ]
  },
  {
   "cell_type": "code",
   "execution_count": null,
   "id": "c9979157-a86e-4daf-8aec-3be88eb33432",
   "metadata": {},
   "outputs": [],
   "source": [
    "encoding = FilterEncodingForXarray(dataset=dataset, compression=compression)"
   ]
  },
  {
   "cell_type": "markdown",
   "id": "1ec9dc55-5c3f-4ab2-a95f-a2db104ace21",
   "metadata": {},
   "source": [
    "### Use Xarray to store a compressed netCDF"
   ]
  },
  {
   "cell_type": "code",
   "execution_count": null,
   "id": "a022c4ef-e697-42c1-a73e-86c3769635ba",
   "metadata": {},
   "outputs": [],
   "source": [
    "# Define a path for the temporary file\n",
    "file_path = Path(\"tmp.nc\")"
   ]
  },
  {
   "cell_type": "code",
   "execution_count": null,
   "id": "0e8f6b3c-2af9-47ea-a644-1f85718d0972",
   "metadata": {},
   "outputs": [],
   "source": [
    "# Save dataset to a netcdf file\n",
    "# Please note that to use the HDF5 filters it is mandatory to use the h5netcdf engine.\n",
    "dataset.to_netcdf(file_path, engine=\"h5netcdf\",encoding=encoding)"
   ]
  },
  {
   "cell_type": "code",
   "execution_count": null,
   "id": "35925c92-fbcb-4249-8f8b-b9dc53be9f2d",
   "metadata": {},
   "outputs": [],
   "source": [
    "# Remove temporary file\n",
    "if file_path.exists():\n",
    "    file_path.unlink()"
   ]
  }
 ],
 "metadata": {
  "kernelspec": {
   "display_name": "enstools-compression-py3.9",
   "language": "python",
   "name": "enstools-compression-py3.9"
  },
  "language_info": {
   "codemirror_mode": {
    "name": "ipython",
    "version": 3
   },
   "file_extension": ".py",
   "mimetype": "text/x-python",
   "name": "python",
   "nbconvert_exporter": "python",
   "pygments_lexer": "ipython3",
   "version": "3.9.7"
  }
 },
 "nbformat": 4,
 "nbformat_minor": 5
}
