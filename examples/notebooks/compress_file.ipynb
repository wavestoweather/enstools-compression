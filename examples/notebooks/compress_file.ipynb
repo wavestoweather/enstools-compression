{
 "cells": [
  {
   "cell_type": "markdown",
   "id": "2b61cda9-cd2d-4487-b656-93374fa406d6",
   "metadata": {
    "pycharm": {
     "name": "#%% md\n"
    },
    "tags": []
   },
   "source": [
    "# Compress a file using the Command Line Interface\n",
    "\n",
    "An example on how to compress a netcdf file using enstools-compression's CLI."
   ]
  },
  {
   "cell_type": "markdown",
   "id": "bc1750af-27da-4ec1-a9a4-9b9646532a6f",
   "metadata": {
    "pycharm": {
     "name": "#%% md\n"
    },
    "tags": []
   },
   "source": [
    "## Prepare something to compress"
   ]
  },
  {
   "cell_type": "code",
   "execution_count": null,
   "id": "d00551a0-599d-4362-b0dd-9861f4919c11",
   "metadata": {
    "pycharm": {
     "name": "#%%\n"
    },
    "tags": []
   },
   "outputs": [],
   "source": [
    "import xarray\n",
    "from pathlib import Path\n",
    "from enstools.io import write, read"
   ]
  },
  {
   "cell_type": "code",
   "execution_count": null,
   "id": "9aff74be-8f44-40f1-966b-6c23a33f748f",
   "metadata": {
    "pycharm": {
     "name": "#%%\n"
    },
    "tags": []
   },
   "outputs": [],
   "source": [
    "dataset_name = \"air_temperature\"\n",
    "dataset = xarray.tutorial.open_dataset(dataset_name)"
   ]
  },
  {
   "cell_type": "code",
   "execution_count": null,
   "id": "a022c4ef-e697-42c1-a73e-86c3769635ba",
   "metadata": {
    "pycharm": {
     "name": "#%%\n"
    }
   },
   "outputs": [],
   "source": [
    "# Define a path for the temporary file\n",
    "input_file = Path(\"input.nc\")\n",
    "output_file = Path(\"compressed.nc\")"
   ]
  },
  {
   "cell_type": "code",
   "execution_count": null,
   "id": "0e8f6b3c-2af9-47ea-a644-1f85718d0972",
   "metadata": {
    "pycharm": {
     "name": "#%%\n"
    }
   },
   "outputs": [],
   "source": [
    "# Save dataset to a netcdf file\n",
    "write(dataset, input_file)"
   ]
  },
  {
   "cell_type": "markdown",
   "source": [
    "## Compress the file"
   ],
   "metadata": {
    "collapsed": false,
    "pycharm": {
     "name": "#%% md\n"
    }
   }
  },
  {
   "cell_type": "code",
   "execution_count": null,
   "outputs": [],
   "source": [
    "! enstools-compression compress \"input.nc\" -o \"compressed.nc\" --compression 'lossy,sz,abs,0.14'"
   ],
   "metadata": {
    "collapsed": false,
    "pycharm": {
     "name": "#%%\n"
    }
   }
  },
  {
   "cell_type": "markdown",
   "source": [
    "## Open compressed file and check that the content can be read"
   ],
   "metadata": {
    "collapsed": false,
    "pycharm": {
     "name": "#%% md\n"
    }
   }
  },
  {
   "cell_type": "code",
   "execution_count": null,
   "outputs": [],
   "source": [
    "with read(\"compressed.nc\") as ds:\n",
    "    print(ds.values)"
   ],
   "metadata": {
    "collapsed": false,
    "pycharm": {
     "name": "#%%\n"
    }
   }
  },
  {
   "cell_type": "markdown",
   "source": [
    "## Remove Temporary files"
   ],
   "metadata": {
    "collapsed": false,
    "pycharm": {
     "name": "#%% md\n"
    }
   }
  },
  {
   "cell_type": "code",
   "execution_count": null,
   "id": "35925c92-fbcb-4249-8f8b-b9dc53be9f2d",
   "metadata": {
    "pycharm": {
     "name": "#%%\n"
    }
   },
   "outputs": [],
   "source": [
    "# Remove files\n",
    "if input_file.exists():\n",
    "    input_file.unlink()\n",
    "if output_file.exists():\n",
    "    output_file.unlink()"
   ]
  }
 ],
 "metadata": {
  "kernelspec": {
   "display_name": "enstools-compression-py3.9",
   "language": "python",
   "name": "enstools-compression-py3.9"
  },
  "language_info": {
   "codemirror_mode": {
    "name": "ipython",
    "version": 3
   },
   "file_extension": ".py",
   "mimetype": "text/x-python",
   "name": "python",
   "nbconvert_exporter": "python",
   "pygments_lexer": "ipython3",
   "version": "3.9.7"
  }
 },
 "nbformat": 4,
 "nbformat_minor": 5
}