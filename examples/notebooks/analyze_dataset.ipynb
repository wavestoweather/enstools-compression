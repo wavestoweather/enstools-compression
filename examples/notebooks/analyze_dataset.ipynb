{
 "cells": [
  {
   "cell_type": "markdown",
   "id": "2b61cda9-cd2d-4487-b656-93374fa406d6",
   "metadata": {
    "pycharm": {
     "name": "#%% md\n"
    },
    "tags": []
   },
   "source": [
    "# Analyze Dataset\n",
    "\n",
    "An example on how to use the analyzer to analyze a **dataset**."
   ]
  },
  {
   "cell_type": "markdown",
   "id": "bc1750af-27da-4ec1-a9a4-9b9646532a6f",
   "metadata": {
    "pycharm": {
     "name": "#%% md\n"
    },
    "tags": []
   },
   "source": [
    "### Imports\n",
    "For this example we will use only **xarray** and **analyze_dataset** from **enstools-compression**."
   ]
  },
  {
   "cell_type": "code",
   "execution_count": null,
   "id": "e019914b",
   "metadata": {
    "collapsed": false,
    "jupyter": {
     "outputs_hidden": false
    },
    "pycharm": {
     "name": "#%%\n"
    }
   },
   "outputs": [],
   "source": [
    "import xarray\n",
    "from enstools.compression.analyzer.analyzer import analyze_dataset"
   ]
  },
  {
   "cell_type": "code",
   "execution_count": null,
   "id": "1bfdda40",
   "metadata": {
    "collapsed": false,
    "jupyter": {
     "outputs_hidden": false
    },
    "pycharm": {
     "name": "#%%\n"
    }
   },
   "outputs": [],
   "source": [
    "dataset_name = \"air_temperature\"\n",
    "dataset = xarray.tutorial.open_dataset(dataset_name)\n",
    "dataset"
   ]
  },
  {
   "cell_type": "markdown",
   "id": "6765f0b2",
   "metadata": {
    "pycharm": {
     "name": "#%% md\n"
    },
    "tags": []
   },
   "source": [
    "### Analyze dataset using default constrains\n",
    "Use **analyze_dataset** to obtain the compression specification that guarantee quality constrains while maximising compression ratios.\n",
    "In this case if the argument `constrains` is not provided it will use the default ones, which are `\"correlation_I:5,ssim_I:2\"`.\n",
    "\n",
    "\n",
    "> **Note**:\n",
    ">\n",
    "> `correlation_I` is computed like: `-log10(1-pearson_correlation)`. i.e. number of nines of correlation\n",
    ">\n",
    "> `correlation_I:5 == correlation:0.99999`\n",
    ">\n",
    "> Similarly `ssim_I` is computed like: `-log10(1-ssim)`."
   ]
  },
  {
   "cell_type": "code",
   "execution_count": null,
   "id": "039e9490-ec03-4103-8d7e-cf3bdecb800a",
   "metadata": {},
   "outputs": [],
   "source": [
    "encoding, metrics = analyze_dataset(dataset=dataset)"
   ]
  },
  {
   "cell_type": "markdown",
   "id": "b225f853",
   "metadata": {
    "pycharm": {
     "name": "#%% md\n"
    }
   },
   "source": [
    "The function returns two dictionaries, one containing the best encoding and another containing the resulting metrics."
   ]
  },
  {
   "cell_type": "code",
   "execution_count": null,
   "id": "b9196782",
   "metadata": {
    "collapsed": false,
    "jupyter": {
     "outputs_hidden": false
    },
    "pycharm": {
     "name": "#%%\n"
    }
   },
   "outputs": [],
   "source": [
    "encoding"
   ]
  },
  {
   "cell_type": "code",
   "execution_count": null,
   "id": "3c55d96f",
   "metadata": {
    "collapsed": false,
    "jupyter": {
     "outputs_hidden": false
    },
    "pycharm": {
     "name": "#%%\n"
    }
   },
   "outputs": [],
   "source": [
    "metrics"
   ]
  },
  {
   "cell_type": "markdown",
   "id": "55ab9652-e49f-4319-aa3a-9000d646a958",
   "metadata": {
    "pycharm": {
     "name": "#%% md\n"
    },
    "tags": []
   },
   "source": [
    "### Analyze dataset using custom constrains\n",
    "\n",
    "If we want to specify different constrains we can do it like this:"
   ]
  },
  {
   "cell_type": "code",
   "execution_count": null,
   "id": "f075f00d-40bf-4c9d-92ff-445453f39c97",
   "metadata": {
    "pycharm": {
     "name": "#%%\n"
    }
   },
   "outputs": [],
   "source": [
    "encoding, metrics = analyze_dataset(dataset=dataset,constrains=\"correlation_I:3,ssim_I:1\")"
   ]
  }
 ],
 "metadata": {
  "kernelspec": {
   "display_name": "enstools-compression-py3.9",
   "language": "python",
   "name": "enstools-compression-py3.9"
  },
  "language_info": {
   "codemirror_mode": {
    "name": "ipython",
    "version": 3
   },
   "file_extension": ".py",
   "mimetype": "text/x-python",
   "name": "python",
   "nbconvert_exporter": "python",
   "pygments_lexer": "ipython3",
   "version": "3.9.7"
  }
 },
 "nbformat": 4,
 "nbformat_minor": 5
}
